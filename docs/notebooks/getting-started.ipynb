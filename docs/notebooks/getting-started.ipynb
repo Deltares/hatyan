{
 "cells": [
  {
   "cell_type": "markdown",
   "metadata": {},
   "source": [
    "# Getting started"
   ]
  },
  {
   "cell_type": "code",
   "execution_count": 1,
   "metadata": {
    "id": "66iwO2KDNkm6"
   },
   "outputs": [],
   "source": [
    "import os\n",
    "import datetime as dt\n",
    "import pandas as pd\n",
    "import xarray as xr\n",
    "import hatyan\n",
    "hatyan.close('all')\n",
    "\n",
    "# optionally set logging level/format (and stream to prevent red background)\n",
    "import logging, sys\n",
    "logging.basicConfig(level=\"INFO\", format='%(message)s', stream=sys.stdout)"
   ]
  },
  {
   "cell_type": "code",
   "execution_count": 2,
   "metadata": {},
   "outputs": [],
   "source": [
    "# defining a list of the components to be analysed ()'year' contains 94 components and the mean H0)\n",
    "const_list = hatyan.get_const_list_hatyan('year')\n"
   ]
  },
  {
   "cell_type": "code",
   "execution_count": 3,
   "metadata": {},
   "outputs": [],
   "source": [
    "# reading and editing time series (Cuxhaven dataset from UHSLC database)\n",
    "# results in a pandas DataFrame a 'values' column (water level in meters) and a pd.DatetimeIndex as index\n",
    "file_data_meas = 'http://uhslc.soest.hawaii.edu:80/opendap/rqds/global/hourly/h825a.nc'\n",
    "times_pred = slice(\"2017-01-01\", \"2018-12-31\", 10)\n",
    "ts_data = xr.open_dataset(file_data_meas)\n",
    "ts_data_sel = ts_data.sea_level.isel(record_id=0).sel(time=slice(times_pred.start,times_pred.stop))\n",
    "# correct from mm to meters and for 5m offset\n",
    "ts_data_sel = (ts_data_sel/1000-5).assign_attrs({'units':'meters'})\n",
    "ts_meas = pd.DataFrame({'values':ts_data_sel.to_series()})\n"
   ]
  },
  {
   "cell_type": "code",
   "execution_count": 4,
   "metadata": {},
   "outputs": [
    {
     "name": "stdout",
     "output_type": "stream",
     "text": [
      "ANALYSIS initializing\n",
      "nodalfactors         = True\n",
      "fu_alltimes          = True\n",
      "xfac                 = False\n",
      "source               = schureman\n",
      "return_allperiods    = True\n",
      "analysis_perperiod   = Y\n",
      "xTxmat_condition_max = 12\n",
      "\n"
     ]
    },
    {
     "ename": "AttributeError",
     "evalue": "'HatyanSettings' object has no attribute 'CS_comps'",
     "output_type": "error",
     "traceback": [
      "\u001b[1;31m---------------------------------------------------------------------------\u001b[0m",
      "\u001b[1;31mAttributeError\u001b[0m                            Traceback (most recent call last)",
      "Cell \u001b[1;32mIn[4], line 2\u001b[0m\n\u001b[0;32m      1\u001b[0m \u001b[38;5;66;03m# tidal analysis and plotting of results \u001b[39;00m\n\u001b[1;32m----> 2\u001b[0m comp_frommeas, comp_allperiods \u001b[38;5;241m=\u001b[39m \u001b[43mhatyan\u001b[49m\u001b[38;5;241;43m.\u001b[39;49m\u001b[43manalysis\u001b[49m\u001b[43m(\u001b[49m\u001b[43mts\u001b[49m\u001b[38;5;241;43m=\u001b[39;49m\u001b[43mts_meas\u001b[49m\u001b[43m,\u001b[49m\u001b[43m \u001b[49m\u001b[43mconst_list\u001b[49m\u001b[38;5;241;43m=\u001b[39;49m\u001b[43mconst_list\u001b[49m\u001b[43m,\u001b[49m\u001b[43m \u001b[49m\n\u001b[0;32m      3\u001b[0m \u001b[43m                                               \u001b[49m\u001b[43mnodalfactors\u001b[49m\u001b[38;5;241;43m=\u001b[39;49m\u001b[38;5;28;43;01mTrue\u001b[39;49;00m\u001b[43m,\u001b[49m\u001b[43m \u001b[49m\u001b[43mreturn_allperiods\u001b[49m\u001b[38;5;241;43m=\u001b[39;49m\u001b[38;5;28;43;01mTrue\u001b[39;49;00m\u001b[43m,\u001b[49m\n\u001b[0;32m      4\u001b[0m \u001b[43m                                               \u001b[49m\u001b[43mfu_alltimes\u001b[49m\u001b[38;5;241;43m=\u001b[39;49m\u001b[38;5;28;43;01mTrue\u001b[39;49;00m\u001b[43m,\u001b[49m\u001b[43m \u001b[49m\u001b[43manalysis_perperiod\u001b[49m\u001b[38;5;241;43m=\u001b[39;49m\u001b[38;5;124;43m'\u001b[39;49m\u001b[38;5;124;43mY\u001b[39;49m\u001b[38;5;124;43m'\u001b[39;49m\u001b[43m)\u001b[49m\n\u001b[0;32m      5\u001b[0m fig,(ax1,ax2) \u001b[38;5;241m=\u001b[39m hatyan\u001b[38;5;241m.\u001b[39mplot_components(comp\u001b[38;5;241m=\u001b[39mcomp_frommeas, comp_allperiods\u001b[38;5;241m=\u001b[39mcomp_allperiods)\n\u001b[0;32m      6\u001b[0m \u001b[38;5;66;03m# fig.savefig('components.png')\u001b[39;00m\n",
      "File \u001b[1;32mC:\\DATA\\hatyan\\hatyan\\analysis_prediction.py:204\u001b[0m, in \u001b[0;36manalysis\u001b[1;34m(ts, const_list, nodalfactors, fu_alltimes, xfac, source, CS_comps, analysis_perperiod, return_allperiods, xTxmat_condition_max)\u001b[0m\n\u001b[0;32m    201\u001b[0m     const_list \u001b[38;5;241m=\u001b[39m const_list\u001b[38;5;241m.\u001b[39mtolist()\n\u001b[0;32m    203\u001b[0m n_const \u001b[38;5;241m=\u001b[39m \u001b[38;5;28mlen\u001b[39m(const_list)\n\u001b[1;32m--> 204\u001b[0m \u001b[38;5;28;01mif\u001b[39;00m \u001b[43mhatyan_settings\u001b[49m\u001b[38;5;241;43m.\u001b[39;49m\u001b[43mCS_comps\u001b[49m \u001b[38;5;129;01mis\u001b[39;00m \u001b[38;5;129;01mnot\u001b[39;00m \u001b[38;5;28;01mNone\u001b[39;00m:\n\u001b[0;32m    205\u001b[0m     n_const \u001b[38;5;241m=\u001b[39m \u001b[38;5;28mlen\u001b[39m(const_list) \u001b[38;5;241m+\u001b[39m \u001b[38;5;28mlen\u001b[39m(hatyan_settings\u001b[38;5;241m.\u001b[39mCS_comps)\n\u001b[0;32m    207\u001b[0m \u001b[38;5;28;01mif\u001b[39;00m hatyan_settings\u001b[38;5;241m.\u001b[39manalysis_perperiod:\n",
      "\u001b[1;31mAttributeError\u001b[0m: 'HatyanSettings' object has no attribute 'CS_comps'"
     ]
    }
   ],
   "source": [
    "# tidal analysis and plotting of results \n",
    "comp_frommeas, comp_allperiods = hatyan.analysis(ts=ts_meas, const_list=const_list, \n",
    "                                               nodalfactors=True, return_allperiods=True,\n",
    "                                               fu_alltimes=True, analysis_perperiod='Y')\n",
    "fig,(ax1,ax2) = hatyan.plot_components(comp=comp_frommeas, comp_allperiods=comp_allperiods)\n",
    "# fig.savefig('components.png')\n"
   ]
  },
  {
   "cell_type": "code",
   "execution_count": null,
   "metadata": {},
   "outputs": [],
   "source": [
    "# tidal prediction and plotting of results (prediction settings are derived from the components dataframe)\n",
    "ts_prediction = hatyan.prediction(comp=comp_frommeas, times=times_pred)\n",
    "fig, (ax1,ax2) = hatyan.plot_timeseries(ts=ts_prediction, ts_validation=ts_meas)\n",
    "ax1.legend(['prediction','measurement','difference','mean of prediction'])\n",
    "ax2.set_ylim(-0.5,0.5)\n",
    "# fig.savefig('prediction.png')\n"
   ]
  },
  {
   "cell_type": "code",
   "execution_count": null,
   "metadata": {},
   "outputs": [],
   "source": [
    "# calculation of HWLW and plotting of results\n",
    "ts_ext_meas = hatyan.calc_HWLW(ts=ts_meas)\n",
    "ts_ext_prediction = hatyan.calc_HWLW(ts=ts_prediction)\n",
    "fig, (ax1,ax2) = hatyan.plot_timeseries(ts=ts_prediction, ts_validation=ts_meas, \n",
    "                                        ts_ext=ts_ext_prediction, ts_ext_validation=ts_ext_meas)\n",
    "ax1.set_xlim(dt.datetime(2018,6,1),dt.datetime(2018,7,1))\n",
    "ax2.set_ylim(-1,1)\n",
    "# fig.savefig('prediction_HWLW.png')\n"
   ]
  },
  {
   "cell_type": "code",
   "execution_count": null,
   "metadata": {},
   "outputs": [],
   "source": [
    "fig, ax = hatyan.plot_HWLW_validatestats(ts_ext=ts_ext_prediction, ts_ext_validation=ts_ext_meas)\n",
    "# fig.savefig('prediction_HWLW_validatestats.png')\n",
    "# ts_prediction.attrs[\"station\"] = \"Cuxhaven\"\n",
    "# ts_prediction.attrs[\"vertref\"] = \"MSL\"\n",
    "# ts_ext_prediction.attrs[\"station\"] = \"Cuxhaven\"\n",
    "# ts_ext_prediction.attrs[\"vertref\"] = \"MSL\"\n",
    "# hatyan.write_netcdf(ts=ts_prediction, ts_ext=ts_ext_prediction, filename='prediction.nc')\n"
   ]
  }
 ],
 "metadata": {
  "colab": {
   "authorship_tag": "ABX9TyOsJjKFofCY/crTfQGQVaHe",
   "collapsed_sections": [],
   "name": "getting-started.ipynb",
   "provenance": []
  },
  "kernelspec": {
   "display_name": "Python 3 (ipykernel)",
   "language": "python",
   "name": "python3"
  },
  "language_info": {
   "codemirror_mode": {
    "name": "ipython",
    "version": 3
   },
   "file_extension": ".py",
   "mimetype": "text/x-python",
   "name": "python",
   "nbconvert_exporter": "python",
   "pygments_lexer": "ipython3",
   "version": "3.11.6"
  }
 },
 "nbformat": 4,
 "nbformat_minor": 4
}
