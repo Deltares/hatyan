{
 "cells": [
  {
   "cell_type": "code",
   "execution_count": 1,
   "metadata": {
    "id": "66iwO2KDNkm6"
   },
   "outputs": [
    {
     "ename": "AttributeError",
     "evalue": "module 'hatyan' has no attribute 'close'",
     "output_type": "error",
     "traceback": [
      "\u001b[1;31m---------------------------------------------------------------------------\u001b[0m",
      "\u001b[1;31mAttributeError\u001b[0m                            Traceback (most recent call last)",
      "\u001b[1;32m~\\AppData\\Local\\Temp\\ipykernel_12716\\524327587.py\u001b[0m in \u001b[0;36m<cell line: 7>\u001b[1;34m()\u001b[0m\n\u001b[0;32m      5\u001b[0m \u001b[1;32mimport\u001b[0m \u001b[0mxarray\u001b[0m \u001b[1;32mas\u001b[0m \u001b[0mxr\u001b[0m\u001b[1;33m\u001b[0m\u001b[1;33m\u001b[0m\u001b[0m\n\u001b[0;32m      6\u001b[0m \u001b[1;32mimport\u001b[0m \u001b[0mhatyan\u001b[0m\u001b[1;33m\u001b[0m\u001b[1;33m\u001b[0m\u001b[0m\n\u001b[1;32m----> 7\u001b[1;33m \u001b[0mhatyan\u001b[0m\u001b[1;33m.\u001b[0m\u001b[0mclose\u001b[0m\u001b[1;33m(\u001b[0m\u001b[1;34m'all'\u001b[0m\u001b[1;33m)\u001b[0m\u001b[1;33m\u001b[0m\u001b[1;33m\u001b[0m\u001b[0m\n\u001b[0m",
      "\u001b[1;31mAttributeError\u001b[0m: module 'hatyan' has no attribute 'close'"
     ]
    }
   ],
   "source": [
    "import os\n",
    "os.chdir('..') #necessary to go one level up to the root directory to find hatyan in notebook/binder\n",
    "import datetime as dt\n",
    "import pandas as pd\n",
    "import xarray as xr\n",
    "import hatyan\n",
    "hatyan.close('all')\n"
   ]
  },
  {
   "cell_type": "code",
   "execution_count": null,
   "metadata": {},
   "outputs": [],
   "source": [
    "#defining a list of the components to be analysed (can also be 'half_year' and others, 'year' contains 94 components and the mean H0)\n",
    "const_list = hatyan.get_const_list_hatyan('year')\n"
   ]
  },
  {
   "cell_type": "code",
   "execution_count": null,
   "metadata": {},
   "outputs": [],
   "source": [
    "#reading and editing time series, results in a pandas DataFrame a 'values' column (water level in meters) and a pd.DatetimeIndex as index\n",
    "file_data_meas = 'http://uhslc.soest.hawaii.edu:80/opendap/rqds/global/hourly/h825a.nc' #Cuxhaven dataset from UHSLC database\n",
    "times_ext = [dt.datetime(2017,1,1),dt.datetime(2018,12,31)]\n",
    "timestep_min = 10\n",
    "ts_data = xr.open_dataset(file_data_meas)\n",
    "ts_data_sel = ts_data.sea_level.isel(record_id=0).sel(time=slice(times_ext[0],times_ext[1]))\n",
    "ts_data_sel = (ts_data_sel/1000-5).assign_attrs({'units':'meters'}) #correct from mm to meters and for 5m offset\n",
    "ts_meas = pd.DataFrame({'values':ts_data_sel.to_series()})\n"
   ]
  },
  {
   "cell_type": "code",
   "execution_count": null,
   "metadata": {},
   "outputs": [],
   "source": [
    "#tidal analysis and plotting of results \n",
    "comp_frommeas, comp_allyears = hatyan.get_components_from_ts(ts=ts_meas, const_list=const_list, nodalfactors=True, return_allperiods=True, fu_alltimes=True, analysis_perperiod='Y')\n",
    "fig,(ax1,ax2) = hatyan.plot_components(comp=comp_frommeas, comp_allyears=comp_allyears)\n",
    "#fig.savefig('components.png')\n"
   ]
  },
  {
   "cell_type": "code",
   "execution_count": null,
   "metadata": {},
   "outputs": [],
   "source": [
    "#tidal prediction and plotting of results\n",
    "ts_prediction = hatyan.prediction(comp=comp_frommeas, nodalfactors=True, fu_alltimes=True, times_ext=times_ext, timestep_min=timestep_min)\n",
    "fig, (ax1,ax2) = hatyan.plot_timeseries(ts=ts_prediction, ts_validation=ts_meas)\n",
    "ax1.legend(['prediction','measurement','difference','mean of prediction'])\n",
    "ax2.set_ylim(-0.5,0.5)\n",
    "#fig.savefig('prediction.png')\n"
   ]
  },
  {
   "cell_type": "code",
   "execution_count": null,
   "metadata": {},
   "outputs": [],
   "source": [
    "#calculation of HWLW and plotting of results\n",
    "ts_ext_meas = hatyan.calc_HWLW(ts=ts_meas)\n",
    "ts_ext_prediction = hatyan.calc_HWLW(ts=ts_prediction)\n",
    "fig, (ax1,ax2) = hatyan.plot_timeseries(ts=ts_prediction, ts_validation=ts_meas, ts_ext=ts_ext_prediction, ts_ext_validation=ts_ext_meas)\n",
    "ax1.set_xlim([dt.datetime(2018,6,1),dt.datetime(2018,7,1)])\n",
    "ax2.set_ylim(-1,1)\n",
    "#fig.savefig('prediction_HWLW.png')\n"
   ]
  },
  {
   "cell_type": "code",
   "execution_count": null,
   "metadata": {},
   "outputs": [],
   "source": [
    "fig, ax = hatyan.plot_HWLW_validatestats(ts_ext=ts_ext_prediction, ts_ext_validation=ts_ext_meas)\n",
    "#fig.savefig('prediction_HWLW_validatestats.png')\n",
    "#hatyan.write_tsnetcdf(ts=ts_prediction, ts_ext=ts_ext_prediction, station='Cuxhaven', vertref='MSL', filename='prediction.nc')\n"
   ]
  }
 ],
 "metadata": {
  "colab": {
   "authorship_tag": "ABX9TyOsJjKFofCY/crTfQGQVaHe",
   "collapsed_sections": [],
   "name": "getting-started.ipynb",
   "provenance": []
  },
  "kernelspec": {
   "display_name": "Python 3 (ipykernel)",
   "language": "python",
   "name": "python3"
  },
  "language_info": {
   "codemirror_mode": {
    "name": "ipython",
    "version": 3
   },
   "file_extension": ".py",
   "mimetype": "text/x-python",
   "name": "python",
   "nbconvert_exporter": "python",
   "pygments_lexer": "ipython3",
   "version": "3.8.13"
  }
 },
 "nbformat": 4,
 "nbformat_minor": 1
}
